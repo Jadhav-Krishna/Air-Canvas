{
 "cells": [
  {
   "cell_type": "code",
   "execution_count": 9,
   "metadata": {},
   "outputs": [
    {
     "name": "stdout",
     "output_type": "stream",
     "text": [
      "Helloooooooooooooooo\n"
     ]
    }
   ],
   "source": [
    "print(\"Helloooooooooooooooo\")"
   ]
  },
  {
   "cell_type": "code",
   "execution_count": 10,
   "metadata": {},
   "outputs": [
    {
     "ename": "ValueError",
     "evalue": "invalid literal for int() with base 10: ''",
     "output_type": "error",
     "traceback": [
      "\u001b[1;31m---------------------------------------------------------------------------\u001b[0m",
      "\u001b[1;31mValueError\u001b[0m                                Traceback (most recent call last)",
      "Cell \u001b[1;32mIn[10], line 1\u001b[0m\n\u001b[1;32m----> 1\u001b[0m n1 \u001b[38;5;241m=\u001b[39m \u001b[38;5;28;43mint\u001b[39;49m\u001b[43m(\u001b[49m\u001b[38;5;28;43minput\u001b[39;49m\u001b[43m(\u001b[49m\u001b[38;5;124;43m\"\u001b[39;49m\u001b[38;5;124;43menter :\u001b[39;49m\u001b[38;5;124;43m\"\u001b[39;49m\u001b[43m)\u001b[49m\u001b[43m)\u001b[49m\n\u001b[0;32m      2\u001b[0m n2 \u001b[38;5;241m=\u001b[39m \u001b[38;5;28mint\u001b[39m(\u001b[38;5;28minput\u001b[39m(\u001b[38;5;124m\"\u001b[39m\u001b[38;5;124menter :\u001b[39m\u001b[38;5;124m\"\u001b[39m))\n\u001b[0;32m      3\u001b[0m n3 \u001b[38;5;241m=\u001b[39m \u001b[38;5;28mint\u001b[39m(\u001b[38;5;28minput\u001b[39m(\u001b[38;5;124m\"\u001b[39m\u001b[38;5;124menter :\u001b[39m\u001b[38;5;124m\"\u001b[39m))\n",
      "\u001b[1;31mValueError\u001b[0m: invalid literal for int() with base 10: ''"
     ]
    }
   ],
   "source": [
    "n1 = int(input(\"enter :\"))\n",
    "n2 = int(input(\"enter :\"))\n",
    "n3 = int(input(\"enter :\"))\n",
    "print(\"avg is : \",float(n1+n2+n3)//3)  #// ko float division ke liye use karege\n"
   ]
  },
  {
   "cell_type": "code",
   "execution_count": null,
   "metadata": {},
   "outputs": [
    {
     "name": "stdout",
     "output_type": "stream",
     "text": [
      "you are eligible for voting\n"
     ]
    }
   ],
   "source": [
    "age = int(input(\"enter your age : \"))\n",
    "if(age >= 18) :\n",
    "    print(\"you are eligible for voting\")\n",
    "\n",
    "else :\n",
    "    print(\"not eligible\")"
   ]
  },
  {
   "cell_type": "code",
   "execution_count": null,
   "metadata": {},
   "outputs": [
    {
     "name": "stdout",
     "output_type": "stream",
     "text": [
      "iso tri\n"
     ]
    }
   ],
   "source": [
    "a = int(input(\"enter 1 side : \"))\n",
    "b = int(input(\"enter 2 side : \"))\n",
    "c = int(input(\"enter 3 side : \"))\n",
    "if((a == b) and (b == c)): \n",
    "    print(\"equ tri\")\n",
    "elif((a == b) or (b == c) or (a == c)): \n",
    "    print(\"iso tri\")\n",
    "else : \n",
    "    print(\"skel tri\")"
   ]
  },
  {
   "cell_type": "code",
   "execution_count": null,
   "metadata": {},
   "outputs": [
    {
     "name": "stdout",
     "output_type": "stream",
     "text": [
      "not a leap yr\n"
     ]
    }
   ],
   "source": [
    "yr = int(input(\"enter the yr\"))\n",
    "leap = int(yr%4)\n",
    "if leap == 0:\n",
    "    print(\"leap year\")\n",
    "else:\n",
    "    print(\"not a leap yr\")"
   ]
  },
  {
   "cell_type": "code",
   "execution_count": null,
   "metadata": {},
   "outputs": [],
   "source": [
    "for i in range(11,0,-1):\n",
    "    print(i)"
   ]
  },
  {
   "cell_type": "code",
   "execution_count": null,
   "metadata": {},
   "outputs": [],
   "source": [
    "import numpy as np\n",
    "myarr = np.array([2,5,9,75,3], np.int8)   #int8"
   ]
  },
  {
   "cell_type": "code",
   "execution_count": null,
   "metadata": {},
   "outputs": [],
   "source": [
    "# myarr[-2]\n",
    "# myarr[3]\n",
    "# myarr[1][1]\n",
    "# myarr.append(9)\n",
    "# myarr.insert(\"position\",'value')  #right shift kar ke insert hoga \n",
    "# myarr.pop('index')\n",
    "# del myarr['index']\n",
    "# myarr.remove('value')     #first accurence ko delete karega\n",
    "# myarr.clear()             #sabko delete karega\n",
    "# myarr.sort()              #ascending order me sort karega\n",
    "# myarr.reverse()           #descending order me sort karega\n",
    "# myarr.copy()              #copy karega\n",
    "# myarr.count('value')      #count karega\n",
    "# myarr.index('value')      #index karega\n",
    "# print(myarr[start:stop:step],end='-----')     #slice karega  #direction 'step' ke sign pr depend karega\n",
    "# if 'value' in myarr\n",
    "# if 'value' not in myarr\n",
    "# len(myarr)  #to find length"
   ]
  },
  {
   "cell_type": "code",
   "execution_count": null,
   "metadata": {},
   "outputs": [
    {
     "name": "stdout",
     "output_type": "stream",
     "text": [
      "11\n"
     ]
    }
   ],
   "source": [
    "lst = [1,3,5,7,9,11,13,15,17,19]\n",
    "a = len(lst)\n",
    "sum = (a//2)    #sum = int(a/2)\n",
    "print(lst[sum])"
   ]
  },
  {
   "cell_type": "markdown",
   "metadata": {},
   "source": [
    "lst = [1,3,2,4,5,7,12]\n",
    "for i in lst :\n",
    "#18"
   ]
  },
  {
   "cell_type": "code",
   "execution_count": null,
   "metadata": {},
   "outputs": [
    {
     "name": "stdout",
     "output_type": "stream",
     "text": [
      "18\n"
     ]
    }
   ],
   "source": [
    "lst = [1,3,2,4,5,7,12]\n",
    "sum = 0\n",
    "for i in lst :\n",
    "    if i % 2 == 0 :\n",
    "        sum = sum + i\n",
    "print(sum)\n",
    "#18"
   ]
  },
  {
   "cell_type": "code",
   "execution_count": null,
   "metadata": {},
   "outputs": [],
   "source": []
  },
  {
   "cell_type": "code",
   "execution_count": null,
   "metadata": {},
   "outputs": [],
   "source": []
  },
  {
   "cell_type": "code",
   "execution_count": null,
   "metadata": {},
   "outputs": [],
   "source": []
  }
 ],
 "metadata": {
  "kernelspec": {
   "display_name": "Python 3",
   "language": "python",
   "name": "python3"
  },
  "language_info": {
   "codemirror_mode": {
    "name": "ipython",
    "version": 3
   },
   "file_extension": ".py",
   "mimetype": "text/x-python",
   "name": "python",
   "nbconvert_exporter": "python",
   "pygments_lexer": "ipython3",
   "version": "3.12.3"
  }
 },
 "nbformat": 4,
 "nbformat_minor": 2
}
